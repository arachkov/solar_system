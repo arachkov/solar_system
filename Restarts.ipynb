{
 "cells": [
  {
   "cell_type": "markdown",
   "metadata": {},
   "source": [
    "This shows verification that, when the simulation is restarted from a binary file, it won't have shifted to a different frame of reference."
   ]
  },
  {
   "cell_type": "code",
   "execution_count": 6,
   "metadata": {},
   "outputs": [],
   "source": [
    "import rebound\n",
    "import reboundx\n",
    "import numpy as np"
   ]
  },
  {
   "cell_type": "code",
   "execution_count": 4,
   "metadata": {},
   "outputs": [],
   "source": [
    "# INITIAL CONDITIONS FROM HORIZON\n",
    "ic = rebound.Simulation.from_file(\"init_conds_2000-01-01_00-00.bin\")"
   ]
  },
  {
   "cell_type": "code",
   "execution_count": 23,
   "metadata": {},
   "outputs": [
    {
     "name": "stdout",
     "output_type": "stream",
     "text": [
      "boost is by 5.70157254742e-11 \n",
      "\n",
      "Creating new simulation.\n"
     ]
    }
   ],
   "source": [
    "# NEW SIMULATION\n",
    "# choosing kappa boost\n",
    "kappa_min = 0.999999999907115\n",
    "kappa_max = 1.00000000009289\n",
    "kappa = kappa_min+np.random.rand()*(kappa_max - kappa_min)\n",
    "print \"boost is by \" + str(kappa-1.0) + \" \\n\"\n",
    "\n",
    "tmax = 5.e5*365. \n",
    " \n",
    "sim = rebound.Simulation.from_file(\"init_conds_2000-01-01_00-00.bin\")\n",
    "N = sim.N\n",
    "\n",
    "o = sim.calculate_orbits()\n",
    " \n",
    "# Create new simualtion\n",
    "print(\"Creating new simulation.\")\n",
    "new_sim = rebound.Simulation()\n",
    "new_sim.G = 1.4880826e-34\n",
    "\n",
    "p = sim.particles[0]\n",
    "new_sim.add(m=p.m,x=p.x,y=p.y,z=p.z,vx=p.vx,vy=p.vy,vz=p.vz)\n",
    "p = sim.particles[1]\n",
    "new_sim.add(m=p.m,a=o[0].a,e=kappa*o[0].e,inc=o[0].inc,Omega=o[0].Omega,omega=o[0].omega,f=o[0].f)\n",
    "for i in range(1,N-1):\n",
    "    p = sim.particles[i+1]\n",
    "    new_sim.add(m=p.m,a=o[i].a,e=o[i].e,inc=o[i].inc,Omega=o[i].Omega,omega=o[i].omega,f=o[i].f)\n",
    "    \n",
    "new_sim.integrator = \"whfast\"\n",
    "new_sim.dt = 8.\n",
    "new_sim.move_to_com()"
   ]
  },
  {
   "cell_type": "code",
   "execution_count": 24,
   "metadata": {},
   "outputs": [
    {
     "name": "stdout",
     "output_type": "stream",
     "text": [
      "0.999999999988\n",
      "1.0\n",
      "1.0\n",
      "1.0\n",
      "1.0\n",
      "1.0\n",
      "1.0\n",
      "1.0\n",
      "1.0\n",
      " \n",
      "-229.801997941\n",
      "25.2862900882\n",
      "14.1984963872\n",
      " \n",
      "-229.760428239\n",
      "25.4175274161\n",
      "14.2053991237\n",
      " \n",
      "-229.802008711\n",
      "25.286313704\n",
      "14.1983880764\n",
      " \n",
      "-229.802041929\n",
      "25.2862919048\n",
      "13.2595043788\n",
      " \n",
      "-229.801942275\n",
      "25.2862540157\n",
      "14.1984420554\n",
      " \n",
      "-229.8021748\n",
      "25.286242078\n",
      "14.198506415\n",
      " \n",
      "-229.8021748\n",
      "25.2863749495\n",
      "14.1966877365\n",
      " \n",
      "-229.802307672\n",
      "25.285976335\n",
      "14.2014088267\n",
      " \n",
      "-229.799118756\n",
      "25.2881022789\n",
      "14.1980496693\n",
      " \n",
      "-229.803636387\n",
      "25.286507821\n",
      "14.1985147195\n",
      " \n"
     ]
    }
   ],
   "source": [
    "oic = ic.calculate_orbits()\n",
    "sa = rebound.SimulationArchive(\"solar_system_merc_kappa_-1.16662235428e-11_SA.bin\")\n",
    "sim = sa[0]\n",
    "orb = sim.calculate_orbits()\n",
    "N = sim.N\n",
    "\n",
    "for i in range(0,N-1):\n",
    "    print orb[i].e/oic[i].e\n",
    "\n",
    "print \" \"\n",
    "\n",
    "for i in range(0,N):\n",
    "    print 1.496e+11*(sim.particles[i].x-ic.particles[i].x)\n",
    "    print 1.496e+11*(sim.particles[i].y-ic.particles[i].y)\n",
    "    print 1.496e+11*(sim.particles[i].z-ic.particles[i].z)\n",
    "    print \" \""
   ]
  },
  {
   "cell_type": "code",
   "execution_count": 25,
   "metadata": {},
   "outputs": [
    {
     "name": "stdout",
     "output_type": "stream",
     "text": [
      "Creating new simulation.\n"
     ]
    }
   ],
   "source": [
    "# NOW WITHOUT SIMULATION ARCHIVE\n",
    "kappa = 1.0 + -1.16662235428e-11\n",
    "\n",
    "tmax = 5.e5*365. \n",
    " \n",
    "sim = rebound.Simulation.from_file(\"init_conds_2000-01-01_00-00.bin\")\n",
    "N = sim.N\n",
    "\n",
    "o = sim.calculate_orbits()\n",
    " \n",
    "# Create new simualtion\n",
    "print(\"Creating new simulation.\")\n",
    "new_sim = rebound.Simulation()\n",
    "new_sim.G = 1.4880826e-34\n",
    "\n",
    "p = sim.particles[0]\n",
    "new_sim.add(m=p.m,x=p.x,y=p.y,z=p.z,vx=p.vx,vy=p.vy,vz=p.vz)\n",
    "p = sim.particles[1]\n",
    "new_sim.add(m=p.m,a=o[0].a,e=kappa*o[0].e,inc=o[0].inc,Omega=o[0].Omega,omega=o[0].omega,f=o[0].f)\n",
    "for i in range(1,N-1):\n",
    "    p = sim.particles[i+1]\n",
    "    new_sim.add(m=p.m,a=o[i].a,e=o[i].e,inc=o[i].inc,Omega=o[i].Omega,omega=o[i].omega,f=o[i].f)\n",
    "    \n",
    "new_sim.integrator = \"whfast\"\n",
    "new_sim.dt = 8.\n",
    "#new_sim.move_to_com()"
   ]
  },
  {
   "cell_type": "code",
   "execution_count": 26,
   "metadata": {},
   "outputs": [
    {
     "name": "stdout",
     "output_type": "stream",
     "text": [
      "0.999999999988\n",
      "1.0\n",
      "1.0\n",
      "1.0\n",
      "1.0\n",
      "1.0\n",
      "1.0\n",
      "1.0\n",
      "1.0\n",
      " \n",
      "0.0\n",
      "0.0\n",
      "0.0\n",
      " \n",
      "0.0415680156962\n",
      "0.131235511347\n",
      "0.0069025701821\n",
      " \n",
      "-1.66089364484e-05\n",
      "2.33563168806e-05\n",
      "-0.000107958086915\n",
      " \n",
      "-4.56745752331e-05\n",
      "0.0\n",
      "-0.938992008475\n",
      " \n",
      "6.64357457936e-05\n",
      "-3.63320484809e-05\n",
      "-5.39790434573e-05\n",
      " \n",
      "-0.000199307237381\n",
      "-6.64357457936e-05\n",
      "1.03805852802e-05\n",
      " \n",
      "-0.000132871491587\n",
      "0.000132871491587\n",
      "-0.00181037407287\n",
      " \n",
      "-0.000265742983174\n",
      "-0.000265742983174\n",
      "0.00291071611258\n",
      " \n",
      "0.00265742983174\n",
      "0.00159445789905\n",
      "-0.000448441284107\n",
      " \n",
      "-0.00159445789905\n",
      "0.0\n",
      "0.0\n",
      " \n"
     ]
    }
   ],
   "source": [
    "oic = ic.calculate_orbits()\n",
    "orb = new_sim.calculate_orbits()\n",
    "N = new_sim.N\n",
    "\n",
    "for i in range(0,N-1):\n",
    "    print orb[i].e/oic[i].e\n",
    "\n",
    "print \" \"\n",
    "\n",
    "for i in range(0,N):\n",
    "    print 1.496e+11*(new_sim.particles[i].x-ic.particles[i].x)\n",
    "    print 1.496e+11*(new_sim.particles[i].y-ic.particles[i].y)\n",
    "    print 1.496e+11*(new_sim.particles[i].z-ic.particles[i].z)\n",
    "    print \" \""
   ]
  },
  {
   "cell_type": "code",
   "execution_count": null,
   "metadata": {
    "collapsed": true
   },
   "outputs": [],
   "source": []
  }
 ],
 "metadata": {
  "kernelspec": {
   "display_name": "Python 2",
   "language": "python",
   "name": "python2"
  },
  "language_info": {
   "codemirror_mode": {
    "name": "ipython",
    "version": 2
   },
   "file_extension": ".py",
   "mimetype": "text/x-python",
   "name": "python",
   "nbconvert_exporter": "python",
   "pygments_lexer": "ipython2",
   "version": "2.7.12"
  }
 },
 "nbformat": 4,
 "nbformat_minor": 1
}
